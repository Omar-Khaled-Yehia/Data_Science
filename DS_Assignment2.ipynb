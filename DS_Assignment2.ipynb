{
  "nbformat": 4,
  "nbformat_minor": 0,
  "metadata": {
    "colab": {
      "provenance": []
    },
    "kernelspec": {
      "name": "python3",
      "display_name": "Python 3"
    },
    "language_info": {
      "name": "python"
    }
  },
  "cells": [
    {
      "cell_type": "code",
      "execution_count": 2,
      "metadata": {
        "colab": {
          "base_uri": "https://localhost:8080/"
        },
        "id": "0VXTN2bxOKpx",
        "outputId": "980e977c-23b7-42d1-eaf9-50e51f98ad3b"
      },
      "outputs": [
        {
          "output_type": "stream",
          "name": "stdout",
          "text": [
            "Array has zero elements\n"
          ]
        }
      ],
      "source": [
        "#1. Write a NumPy program to test whether none of the elements of a given array is zero & 2. Write a NumPy program to test whether any of the elements of a given array is non-zero.\n",
        "import numpy as np\n",
        "no_zero=False\n",
        "arr=[0,1,2,3,4,5,6,7,8,9]\n",
        "np.array(arr)\n",
        "if np.all(arr):\n",
        "  no_zero=True\n",
        "if no_zero:\n",
        "  print(\"Array has no zero elements\")\n",
        "else:\n",
        "  print(\"Array has zero elements\")"
      ]
    },
    {
      "cell_type": "code",
      "source": [
        "#3. Write a NumPy program to create an element-wise comparison (equal, equal within a tolerance) of two given\n",
        "arr1=[1,2,3,4,5]\n",
        "arr2=[1,2,3,4,6]\n",
        "np.array(arr1)\n",
        "np.array(arr2)\n",
        "np.equal(arr1,arr2)"
      ],
      "metadata": {
        "colab": {
          "base_uri": "https://localhost:8080/"
        },
        "id": "f2oUG1_77eoY",
        "outputId": "85726a9e-3a67-4849-e3b7-daa998fe2eca"
      },
      "execution_count": 3,
      "outputs": [
        {
          "output_type": "execute_result",
          "data": {
            "text/plain": [
              "array([ True,  True,  True,  True, False])"
            ]
          },
          "metadata": {},
          "execution_count": 3
        }
      ]
    },
    {
      "cell_type": "code",
      "source": [
        "# 4. Write a NumPy program to create an array of 10 zeros,10 ones, 10 fives.\n",
        "a1=np.zeros(10)\n",
        "a2=np.ones(10)\n",
        "a3=np.full(10,5)\n",
        "a4=np.hstack((a1,a2,a3))\n",
        "a4"
      ],
      "metadata": {
        "colab": {
          "base_uri": "https://localhost:8080/"
        },
        "id": "enOznHSR_CQ7",
        "outputId": "1b534103-554e-41e8-9351-c221dbbb19ee"
      },
      "execution_count": 4,
      "outputs": [
        {
          "output_type": "execute_result",
          "data": {
            "text/plain": [
              "array([0., 0., 0., 0., 0., 0., 0., 0., 0., 0., 1., 1., 1., 1., 1., 1., 1.,\n",
              "       1., 1., 1., 5., 5., 5., 5., 5., 5., 5., 5., 5., 5.])"
            ]
          },
          "metadata": {},
          "execution_count": 4
        }
      ]
    },
    {
      "cell_type": "code",
      "source": [
        "#5. Write a NumPy program to create an array of the integers from 30 to70\n",
        "a1=np.arange(30,71)\n",
        "a1"
      ],
      "metadata": {
        "colab": {
          "base_uri": "https://localhost:8080/"
        },
        "id": "ojzT9JhACeO5",
        "outputId": "0f2a31fa-ba5d-45aa-8a91-d67004ca85a0"
      },
      "execution_count": 5,
      "outputs": [
        {
          "output_type": "execute_result",
          "data": {
            "text/plain": [
              "array([30, 31, 32, 33, 34, 35, 36, 37, 38, 39, 40, 41, 42, 43, 44, 45, 46,\n",
              "       47, 48, 49, 50, 51, 52, 53, 54, 55, 56, 57, 58, 59, 60, 61, 62, 63,\n",
              "       64, 65, 66, 67, 68, 69, 70])"
            ]
          },
          "metadata": {},
          "execution_count": 5
        }
      ]
    },
    {
      "cell_type": "code",
      "source": [
        "#6. Write a NumPy program to create a 3x3 identity matrix\n",
        "a1=np.identity(3)\n",
        "a1"
      ],
      "metadata": {
        "colab": {
          "base_uri": "https://localhost:8080/"
        },
        "id": "XhflZNImCwyD",
        "outputId": "000d642d-5aa4-4781-b55c-41b38f788dcc"
      },
      "execution_count": 6,
      "outputs": [
        {
          "output_type": "execute_result",
          "data": {
            "text/plain": [
              "array([[1., 0., 0.],\n",
              "       [0., 1., 0.],\n",
              "       [0., 0., 1.]])"
            ]
          },
          "metadata": {},
          "execution_count": 6
        }
      ]
    },
    {
      "cell_type": "code",
      "source": [
        "#7. Write a NumPy program to generate a random number between 0 and 1\n",
        "x=np.random.rand()\n",
        "x"
      ],
      "metadata": {
        "colab": {
          "base_uri": "https://localhost:8080/"
        },
        "id": "Ip1O1CTvDu0W",
        "outputId": "346f2f9b-c516-467c-abbc-4d32d315d468"
      },
      "execution_count": 7,
      "outputs": [
        {
          "output_type": "execute_result",
          "data": {
            "text/plain": [
              "0.8333629480740121"
            ]
          },
          "metadata": {},
          "execution_count": 7
        }
      ]
    },
    {
      "cell_type": "code",
      "source": [
        "#8. Write a NumPy program to generate an array of 15 random numbers from a standard normal distribution\n",
        "arr=np.random.randn(15)\n",
        "arr"
      ],
      "metadata": {
        "id": "oF9laSRnD68b",
        "colab": {
          "base_uri": "https://localhost:8080/"
        },
        "outputId": "150a44e3-1422-4107-834e-583db14479a0"
      },
      "execution_count": 8,
      "outputs": [
        {
          "output_type": "execute_result",
          "data": {
            "text/plain": [
              "array([ 1.11796247,  1.75579832, -0.80665755,  1.30127778,  0.11165855,\n",
              "        0.44343868, -1.46462642,  0.70443347,  0.69497237,  1.01333434,\n",
              "       -0.67547056, -0.52901623,  1.66570555, -0.31865064, -0.81357871])"
            ]
          },
          "metadata": {},
          "execution_count": 8
        }
      ]
    },
    {
      "cell_type": "code",
      "source": [
        "# 9. Write a NumPy program to create a vector with values ranging from 15 to 55 and print all values except the first and last.\n",
        "arr=np.linspace(15,55)\n",
        "arr[1:-1]"
      ],
      "metadata": {
        "colab": {
          "base_uri": "https://localhost:8080/"
        },
        "id": "8iBDroDdPP1q",
        "outputId": "671176b8-1ca5-4bad-c80b-2b181ae2e039"
      },
      "execution_count": 9,
      "outputs": [
        {
          "output_type": "execute_result",
          "data": {
            "text/plain": [
              "array([15.81632653, 16.63265306, 17.44897959, 18.26530612, 19.08163265,\n",
              "       19.89795918, 20.71428571, 21.53061224, 22.34693878, 23.16326531,\n",
              "       23.97959184, 24.79591837, 25.6122449 , 26.42857143, 27.24489796,\n",
              "       28.06122449, 28.87755102, 29.69387755, 30.51020408, 31.32653061,\n",
              "       32.14285714, 32.95918367, 33.7755102 , 34.59183673, 35.40816327,\n",
              "       36.2244898 , 37.04081633, 37.85714286, 38.67346939, 39.48979592,\n",
              "       40.30612245, 41.12244898, 41.93877551, 42.75510204, 43.57142857,\n",
              "       44.3877551 , 45.20408163, 46.02040816, 46.83673469, 47.65306122,\n",
              "       48.46938776, 49.28571429, 50.10204082, 50.91836735, 51.73469388,\n",
              "       52.55102041, 53.36734694, 54.18367347])"
            ]
          },
          "metadata": {},
          "execution_count": 9
        }
      ]
    },
    {
      "cell_type": "code",
      "source": [
        "# 10. Write a NumPy program to create a vector of length 5 filled with arbitrary integers from 0 to 10\n",
        "a=np.random.random_integers(0,11,5)\n",
        "print(a)\n",
        "b=np.random.randint(0,11,5)\n",
        "b"
      ],
      "metadata": {
        "colab": {
          "base_uri": "https://localhost:8080/"
        },
        "id": "q-CxjJxoPmNP",
        "outputId": "6a3bcf6e-a626-445a-acc2-ee4910670be2"
      },
      "execution_count": 10,
      "outputs": [
        {
          "output_type": "stream",
          "name": "stdout",
          "text": [
            "[ 4  6  2 11  8]\n"
          ]
        },
        {
          "output_type": "stream",
          "name": "stderr",
          "text": [
            "<ipython-input-10-477274d6ab68>:2: DeprecationWarning: This function is deprecated. Please call randint(0, 11 + 1) instead\n",
            "  a=np.random.random_integers(0,11,5)\n"
          ]
        },
        {
          "output_type": "execute_result",
          "data": {
            "text/plain": [
              "array([5, 0, 4, 5, 2])"
            ]
          },
          "metadata": {},
          "execution_count": 10
        }
      ]
    },
    {
      "cell_type": "code",
      "source": [
        "# 11. Write a NumPy program to create a 10x10 matrix, in which the elements on the borders will be equal to 1, and inside 0.\n",
        "m=np.zeros((10,10))\n",
        "m[0],m[-1],m[:,0],m[:,-1]=1,1,1,1\n",
        "m"
      ],
      "metadata": {
        "colab": {
          "base_uri": "https://localhost:8080/"
        },
        "id": "lxOCEaCZQaHS",
        "outputId": "87bec2bd-81a4-41a4-b35c-9a4d797e522a"
      },
      "execution_count": 11,
      "outputs": [
        {
          "output_type": "execute_result",
          "data": {
            "text/plain": [
              "array([[1., 1., 1., 1., 1., 1., 1., 1., 1., 1.],\n",
              "       [1., 0., 0., 0., 0., 0., 0., 0., 0., 1.],\n",
              "       [1., 0., 0., 0., 0., 0., 0., 0., 0., 1.],\n",
              "       [1., 0., 0., 0., 0., 0., 0., 0., 0., 1.],\n",
              "       [1., 0., 0., 0., 0., 0., 0., 0., 0., 1.],\n",
              "       [1., 0., 0., 0., 0., 0., 0., 0., 0., 1.],\n",
              "       [1., 0., 0., 0., 0., 0., 0., 0., 0., 1.],\n",
              "       [1., 0., 0., 0., 0., 0., 0., 0., 0., 1.],\n",
              "       [1., 0., 0., 0., 0., 0., 0., 0., 0., 1.],\n",
              "       [1., 1., 1., 1., 1., 1., 1., 1., 1., 1.]])"
            ]
          },
          "metadata": {},
          "execution_count": 11
        }
      ]
    },
    {
      "cell_type": "code",
      "source": [
        "# 12. Write a NumPy program to create a 5x5 zero matrix with elements on the main diagonal equal to 1, 2, 3, 4, 5.\n",
        "a=np.zeros((5,5))\n",
        "for i in range(0,5):\n",
        "  a[i,i]=i+1\n",
        "a"
      ],
      "metadata": {
        "id": "2Lz2fZ9BRBvF",
        "colab": {
          "base_uri": "https://localhost:8080/"
        },
        "outputId": "c6238127-a680-4ff4-92c3-f063f42179f6"
      },
      "execution_count": 14,
      "outputs": [
        {
          "output_type": "execute_result",
          "data": {
            "text/plain": [
              "array([[1., 0., 0., 0., 0.],\n",
              "       [0., 2., 0., 0., 0.],\n",
              "       [0., 0., 3., 0., 0.],\n",
              "       [0., 0., 0., 4., 0.],\n",
              "       [0., 0., 0., 0., 5.]])"
            ]
          },
          "metadata": {},
          "execution_count": 14
        }
      ]
    },
    {
      "cell_type": "code",
      "source": [
        "# 13. Write a NumPy program to create a 4x4 matrix in which 0 and 1 are staggered, with zeros on the main diagonal.\n",
        "a=np.ones((4,4))\n",
        "for i in range(0,4):\n",
        "  a[i,i]=0\n",
        "a\n",
        "for i in range(0,4,2):\n",
        "  a[0,i],a[2,i]=0,0\n",
        "for i in range(1,4,2):\n",
        "  a[1,i],a[3,i]=0,0\n",
        "\n",
        "a"
      ],
      "metadata": {
        "id": "y5Yl2ilmRFEl",
        "colab": {
          "base_uri": "https://localhost:8080/"
        },
        "outputId": "92aabdd3-ba9d-4d1b-d505-352eca85c54b"
      },
      "execution_count": 43,
      "outputs": [
        {
          "output_type": "execute_result",
          "data": {
            "text/plain": [
              "array([[0., 1., 0., 1.],\n",
              "       [1., 0., 1., 0.],\n",
              "       [0., 1., 0., 1.],\n",
              "       [1., 0., 1., 0.]])"
            ]
          },
          "metadata": {},
          "execution_count": 43
        }
      ]
    },
    {
      "cell_type": "code",
      "source": [
        "# 14. Write a NumPy program to save two given arrays into a single file in compressed format (.npz format)and load it.\n",
        "a=[\"a\",\"b\",\"c\"]\n",
        "b=[\"d\",\"e\",\"f\"]\n",
        "np.array(a)\n",
        "np.array(b)\n",
        "c=np.hstack((a,b))\n",
        "c\n",
        "# how to make it compressed???"
      ],
      "metadata": {
        "id": "J-K3wY3mRIev",
        "colab": {
          "base_uri": "https://localhost:8080/"
        },
        "outputId": "df7d6a81-5a0b-40d0-a083-44719c08ddbb"
      },
      "execution_count": 50,
      "outputs": [
        {
          "output_type": "execute_result",
          "data": {
            "text/plain": [
              "array(['a', 'b', 'c', 'd', 'e', 'f'], dtype='<U1')"
            ]
          },
          "metadata": {},
          "execution_count": 50
        }
      ]
    },
    {
      "cell_type": "code",
      "source": [
        "# 15. Write a NumPy program to create a one-dimensional array of forty pseudo-randomly generated values.Select\n",
        "a=np.random.rand(40)\n",
        "a"
      ],
      "metadata": {
        "id": "MkWMDDKWRLZE",
        "colab": {
          "base_uri": "https://localhost:8080/"
        },
        "outputId": "a464b649-86c2-4398-cf20-392e45734a70"
      },
      "execution_count": 18,
      "outputs": [
        {
          "output_type": "execute_result",
          "data": {
            "text/plain": [
              "array([0.71717105, 0.39522633, 0.35811168, 0.89371891, 0.14124523,\n",
              "       0.27244968, 0.20747215, 0.152138  , 0.58680566, 0.52437817,\n",
              "       0.41494506, 0.58881546, 0.76110815, 0.63696772, 0.39489213,\n",
              "       0.93663144, 0.03964675, 0.56939474, 0.59121268, 0.35099238,\n",
              "       0.0523872 , 0.80504799, 0.3723347 , 0.94957825, 0.19448347,\n",
              "       0.86213054, 0.99381415, 0.95429798, 0.04273574, 0.76422231,\n",
              "       0.10929356, 0.17649911, 0.41516205, 0.72017879, 0.14884976,\n",
              "       0.48556195, 0.54509305, 0.79813883, 0.73296008, 0.91931789])"
            ]
          },
          "metadata": {},
          "execution_count": 18
        }
      ]
    },
    {
      "cell_type": "code",
      "source": [
        "# 16. Write a NumPy program to extract all numbers from a given array which are less and greater than a specified number.\n",
        "num=7\n",
        "a= np.arange(10)\n",
        "a\n",
        "b=a<num\n",
        "c=a>num\n",
        "print(a[b])\n",
        "print(a[c])"
      ],
      "metadata": {
        "id": "QI_ONkezRPMR",
        "colab": {
          "base_uri": "https://localhost:8080/"
        },
        "outputId": "e6e701d1-301e-409c-86d5-9093dbee6119"
      },
      "execution_count": 49,
      "outputs": [
        {
          "output_type": "stream",
          "name": "stdout",
          "text": [
            "[0 1 2 3 4 5 6]\n",
            "[8 9]\n"
          ]
        }
      ]
    },
    {
      "cell_type": "code",
      "source": [],
      "metadata": {
        "id": "VPKfOKEK53ax"
      },
      "execution_count": null,
      "outputs": []
    }
  ]
}